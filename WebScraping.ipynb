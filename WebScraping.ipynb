{
  "nbformat": 4,
  "nbformat_minor": 0,
  "metadata": {
    "colab": {
      "name": "WebScraping.ipynb",
      "provenance": [],
      "authorship_tag": "ABX9TyO2aSg85FYXw3Y3iSVwKfvR",
      "include_colab_link": true
    },
    "kernelspec": {
      "name": "python3",
      "display_name": "Python 3"
    },
    "language_info": {
      "name": "python"
    }
  },
  "cells": [
    {
      "cell_type": "markdown",
      "metadata": {
        "id": "view-in-github",
        "colab_type": "text"
      },
      "source": [
        "<a href=\"https://colab.research.google.com/github/jehmarseille/Projetos_de_estudo/blob/main/WebScraping.ipynb\" target=\"_parent\"><img src=\"https://colab.research.google.com/assets/colab-badge.svg\" alt=\"Open In Colab\"/></a>"
      ]
    },
    {
      "cell_type": "markdown",
      "metadata": {
        "id": "Gc1n-TPox_PE"
      },
      "source": [
        "## WebScraping\n",
        "\n",
        "### Baseado na palestra \"Conquiste a pessoa amada com Web Scraping: usando BeautifulSoup para pegar dados que vão impressionar qualquer crush\" de João Golias e Débora Golias, Python Brasil 2021. \n",
        "\n",
        "### Objetivo: escolher um presente para o crush.\n"
      ]
    },
    {
      "cell_type": "markdown",
      "metadata": {
        "id": "KRyF2x7Z4qAt"
      },
      "source": [
        "## Importando bibliotecas"
      ]
    },
    {
      "cell_type": "code",
      "metadata": {
        "colab": {
          "base_uri": "https://localhost:8080/"
        },
        "id": "v5m4aJSQp--p",
        "outputId": "078ed6d2-98b3-490d-9ce0-cd50d476f7bb"
      },
      "source": [
        "!pip install bs4\n",
        "!pip install requests\n",
        "from bs4 import BeautifulSoup\n",
        "import requests\n",
        "import pandas as pd"
      ],
      "execution_count": null,
      "outputs": [
        {
          "output_type": "stream",
          "name": "stdout",
          "text": [
            "Requirement already satisfied: bs4 in /usr/local/lib/python3.7/dist-packages (0.0.1)\n",
            "Requirement already satisfied: beautifulsoup4 in /usr/local/lib/python3.7/dist-packages (from bs4) (4.6.3)\n"
          ]
        }
      ]
    },
    {
      "cell_type": "markdown",
      "metadata": {
        "id": "Ga_EuRMC5C0m"
      },
      "source": [
        "## Coletando informações do Mercado Livre"
      ]
    },
    {
      "cell_type": "code",
      "metadata": {
        "id": "tzfN9l_CqUQz"
      },
      "source": [
        "html = requests.get(\"https://lista.mercadolivre.com.br/caixa-de-bombom\", headers = headers).content \n",
        "soup = BeautifulSoup(html) "
      ],
      "execution_count": null,
      "outputs": []
    },
    {
      "cell_type": "code",
      "metadata": {
        "id": "CePJlCuly7M9"
      },
      "source": [
        "user_agent = (\n",
        "    \"Scrapping feito por marseillee@live.com com base em uma apresentação na PyBR2021\")\n",
        "\n",
        "headers = {\"User-Agent\": user_agent}"
      ],
      "execution_count": null,
      "outputs": []
    },
    {
      "cell_type": "code",
      "metadata": {
        "id": "1n-PvsmZrHmU"
      },
      "source": [
        "item = soup.find(class_ = \"ui-search-item__group ui-search-item__group--title\")\n",
        "links = []\n",
        "produto = []\n",
        "for item in soup.find_all(class_= \"ui-search-item__group ui-search-item__group--title\"):\n",
        "  print(item.a['href'])\n",
        "  links.append(item.a['href'])\n",
        "  print(item.text)\n",
        "  produto.append(item.text)\n",
        "  print('-------------')"
      ],
      "execution_count": null,
      "outputs": []
    },
    {
      "cell_type": "markdown",
      "metadata": {
        "id": "tVI_8P475PD0"
      },
      "source": [
        "## Criando um DataFrame"
      ]
    },
    {
      "cell_type": "code",
      "metadata": {
        "id": "odMniMghu87z"
      },
      "source": [
        "dic = {'Link': links,\n",
        "       'Produto': produto}\n",
        "\n",
        "dados = pd.DataFrame(data = dic)"
      ],
      "execution_count": null,
      "outputs": []
    },
    {
      "cell_type": "code",
      "metadata": {
        "colab": {
          "base_uri": "https://localhost:8080/",
          "height": 80
        },
        "id": "ObNgF05Cvgl_",
        "outputId": "03d84264-9e8f-43d4-9117-533bad4630dc"
      },
      "source": [
        "# Escolha aleatória de um chocolate para o crush\n",
        "dados.sample(1)"
      ],
      "execution_count": null,
      "outputs": [
        {
          "output_type": "execute_result",
          "data": {
            "text/html": [
              "<div>\n",
              "<style scoped>\n",
              "    .dataframe tbody tr th:only-of-type {\n",
              "        vertical-align: middle;\n",
              "    }\n",
              "\n",
              "    .dataframe tbody tr th {\n",
              "        vertical-align: top;\n",
              "    }\n",
              "\n",
              "    .dataframe thead th {\n",
              "        text-align: right;\n",
              "    }\n",
              "</style>\n",
              "<table border=\"1\" class=\"dataframe\">\n",
              "  <thead>\n",
              "    <tr style=\"text-align: right;\">\n",
              "      <th></th>\n",
              "      <th>Link</th>\n",
              "      <th>Produto</th>\n",
              "    </tr>\n",
              "  </thead>\n",
              "  <tbody>\n",
              "    <tr>\n",
              "      <th>43</th>\n",
              "      <td>https://produto.mercadolivre.com.br/MLB-185589...</td>\n",
              "      <td>Kit 12 Chocolate Nescau Ball Nestlé 75g</td>\n",
              "    </tr>\n",
              "  </tbody>\n",
              "</table>\n",
              "</div>"
            ],
            "text/plain": [
              "                                                 Link                                  Produto\n",
              "43  https://produto.mercadolivre.com.br/MLB-185589...  Kit 12 Chocolate Nescau Ball Nestlé 75g"
            ]
          },
          "metadata": {},
          "execution_count": 91
        }
      ]
    }
  ]
}